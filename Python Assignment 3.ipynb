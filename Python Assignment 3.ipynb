{
 "cells": [
  {
   "cell_type": "markdown",
   "metadata": {},
   "source": [
    "##### Assignment 3\n",
    "Suraj K Nair\n",
    "1MS17ME185"
   ]
  },
  {
   "cell_type": "markdown",
   "metadata": {},
   "source": [
    "##### 1.\n",
    "Design and implement a program to create and read the contents of a file that resembles a phone book with names and phone numbers. Now alphabetically sort the phonebook."
   ]
  },
  {
   "cell_type": "code",
   "execution_count": 11,
   "metadata": {},
   "outputs": [
    {
     "name": "stdout",
     "output_type": "stream",
     "text": [
      "Enter Name:  Adi \n",
      "Phone No: 9748928942\n",
      "Do you want to add another contact y/n? y\n",
      "Enter Name:  Ashav \n",
      "Phone No: 67264727924\n",
      "Do you want to add another contact y/n? y\n",
      "Enter Name:  Ankith \n",
      "Phone No: 3725228632\n",
      "Do you want to add another contact y/n? y\n",
      "Enter Name:  Soniya \n",
      "Phone No: 61237632649\n",
      "Do you want to add another contact y/n? n\n",
      "[(' Adi ', 9748928942), (' Ankith ', 3725228632), (' Ashav ', 67264727924), (' Soniya ', 61237632649)]\n"
     ]
    },
    {
     "data": {
      "text/plain": [
       "<function TextIOWrapper.close()>"
      ]
     },
     "execution_count": 11,
     "metadata": {},
     "output_type": "execute_result"
    }
   ],
   "source": [
    "\n",
    "choice=\"y\"\n",
    "contacts={}\n",
    "while choice==\"y\":\n",
    "    n=input(\"Enter Name: \")\n",
    "    ph=int(input(\"Phone No: \"))\n",
    "    contacts[n]=ph\n",
    "    choice=(input(\"Do you want to add another contact y/n? \"))\n",
    "print(sorted(contacts.items()))\n",
    "with open('Q1.txt', 'w') as fh:\n",
    "    print(contacts, file=fh)\n",
    "fh.close"
   ]
  },
  {
   "cell_type": "markdown",
   "metadata": {},
   "source": [
    "##### 2.\n",
    "Design and implement a python program to create  and read a file, store it in a list of lists, with each inner list containing the product name, net weight and the unit price of a product, by name shopper_list.txt that contains the name, weight and the unit price of the products in supermarket:\n",
    "Wheat flour  1kg  25.00\n",
    "Rice flour       1kg  40.00"
   ]
  },
  {
   "cell_type": "code",
   "execution_count": 30,
   "metadata": {},
   "outputs": [
    {
     "name": "stdout",
     "output_type": "stream",
     "text": [
      "Enter number of items: 2\n",
      "Enter item name: Wheat Flour\n",
      "Enter net weight: 1\n",
      "Unit price: 25\n",
      "Enter item name: Rice Flour\n",
      "Enter net weight: 1\n",
      "Unit price: 40\n"
     ]
    },
    {
     "data": {
      "text/plain": [
       "<function TextIOWrapper.close()>"
      ]
     },
     "execution_count": 30,
     "metadata": {},
     "output_type": "execute_result"
    }
   ],
   "source": [
    "# super_list\n",
    "super_list = [] \n",
    "\n",
    "# accepting input for the number of items\n",
    "n=int(input('Enter number of items: '))\n",
    "\n",
    "for i in range(n):\n",
    "    # initialize a list for each iteration\n",
    "    item_list = []\n",
    "    # take inputs and store in that list\n",
    "    item_list.append(input('Enter item name: '))\n",
    "    item_list.append(input('Enter net weight: '))\n",
    "    item_list.append(input('Unit price: '))\n",
    "    # append the list to the super list \n",
    "    super_list.append(item_list)\n",
    "    # scope of the list created ends...\n",
    "    #... at the start of the next iteration, new list is created\n",
    "    \n",
    "# writing in the file \n",
    "with open('Q2.txt', 'w') as fh:\n",
    "    print(super_list, file=fh)\n",
    "fh.close\n",
    "    \n",
    "       "
   ]
  },
  {
   "cell_type": "markdown",
   "metadata": {},
   "source": [
    "##### 3.\n",
    "Design and implement a program to open a file and count the occurrences of each letter in the file. "
   ]
  },
  {
   "cell_type": "code",
   "execution_count": 11,
   "metadata": {},
   "outputs": [],
   "source": [
    "#creating original_text.txt\n",
    "color = ['Roses are red', 'Violets are blue', 'Sugar is sweet', 'And so are you', 'There is a snake in msrit', 'hsss']\n",
    "with open('original_text.txt', \"w\") as fh:\n",
    "        for i in color:\n",
    "            fh.write(\"%s\\n\" % i )\n"
   ]
  },
  {
   "cell_type": "code",
   "execution_count": 14,
   "metadata": {},
   "outputs": [
    {
     "name": "stdout",
     "output_type": "stream",
     "text": [
      "Enter file name: Q1.txt\n",
      "Enter letter to be searched:S\n",
      "Occurrences of the letter: \n",
      "1\n"
     ]
    }
   ],
   "source": [
    "fname = input(\"Enter file name: \")\n",
    "l=input(\"Enter letter to be searched:\")\n",
    "k = 0\n",
    " \n",
    "with open(fname, 'r') as f:\n",
    "    for line in f:\n",
    "        words = line.split()\n",
    "        for i in words:\n",
    "            for letter in i:\n",
    "                if(letter==l):\n",
    "                    k=k+1\n",
    "print(\"Occurrences of the letter: \")\n",
    "print(k)"
   ]
  },
  {
   "cell_type": "markdown",
   "metadata": {},
   "source": [
    "##### 4.\n",
    "Design and implement a program that reads a file and outputs a new file with the lines in a sorted order."
   ]
  },
  {
   "cell_type": "code",
   "execution_count": 12,
   "metadata": {},
   "outputs": [
    {
     "name": "stdout",
     "output_type": "stream",
     "text": [
      "And so are you\n",
      "\n",
      "Roses are red\n",
      "\n",
      "Sugar is sweet\n",
      "\n",
      "There is a snake in msrit\n",
      "\n",
      "Violets are blue\n",
      "\n",
      "hsss\n",
      "\n"
     ]
    }
   ],
   "source": [
    "def file_read(fname):\n",
    "        with open(fname) as f:\n",
    "                #Content_list is the list that contains the read lines.     \n",
    "                content_list = f.readlines()\n",
    "                content_list.sort()\n",
    "                for i in range(len(content_list)):\n",
    "                    print(content_list[i])\n",
    "file_read('original_text.txt')"
   ]
  },
  {
   "cell_type": "markdown",
   "metadata": {},
   "source": [
    "##### 5.\n",
    "Write a program segment that reads a text file named original_text, and displays how many times the letter ‘c’ occurs\n"
   ]
  },
  {
   "cell_type": "code",
   "execution_count": 13,
   "metadata": {},
   "outputs": [
    {
     "name": "stdout",
     "output_type": "stream",
     "text": [
      "Occurrences of the letter: \n",
      "0\n"
     ]
    }
   ],
   "source": [
    "l='c'\n",
    "k = 0\n",
    " \n",
    "with open('original_text.txt', 'r') as f:\n",
    "    for line in f:\n",
    "        words = line.split()\n",
    "        for i in words:\n",
    "            for letter in i:\n",
    "                if(letter==l):\n",
    "                    k=k+1\n",
    "print(\"Occurrences of the letter: \")\n",
    "print(k)"
   ]
  },
  {
   "cell_type": "markdown",
   "metadata": {},
   "source": [
    "##### 6.\n",
    "Write a Python program to count the number of lines in a text file."
   ]
  },
  {
   "cell_type": "code",
   "execution_count": 14,
   "metadata": {},
   "outputs": [
    {
     "name": "stdout",
     "output_type": "stream",
     "text": [
      "Number of lines in the file:  6\n"
     ]
    }
   ],
   "source": [
    "def file_lengthy(fname):\n",
    "        with open(fname) as f:\n",
    "                for i, l in enumerate(f):\n",
    "                        pass\n",
    "        return i + 1\n",
    "print(\"Number of lines in the file: \",file_lengthy(\"original_text.txt\"))"
   ]
  },
  {
   "cell_type": "markdown",
   "metadata": {},
   "source": [
    "##### 7.\n",
    "Write a Python program to get current time in milliseconds in Python using the time module."
   ]
  },
  {
   "cell_type": "code",
   "execution_count": 43,
   "metadata": {},
   "outputs": [
    {
     "name": "stdout",
     "output_type": "stream",
     "text": [
      "Number of MilliSeconds since epoch till present: 1605688413269\n",
      "Number of Years since epoch till present: 50.881195441636876\n"
     ]
    }
   ],
   "source": [
    "#The time() function returns the number of seconds passed since epoch.\n",
    "#For Unix system, January 1, 1970, 00:00:00 at UTC is epoch (the point where time begins).\n",
    "\n",
    "import time\n",
    "milli_seconds= round((time.time())*1000)\n",
    "print(f\"Number of MilliSeconds since epoch till present: {milli_seconds}\")\n",
    "years=milli_seconds/(1000*3600*24*365.25)\n",
    "print(f\"Number of Years since epoch till present: {years}\")"
   ]
  },
  {
   "cell_type": "markdown",
   "metadata": {},
   "source": [
    "##### 8.\n",
    "Write a Python program to generate random even integers in a specific numerical range using the random module"
   ]
  },
  {
   "cell_type": "code",
   "execution_count": 46,
   "metadata": {},
   "outputs": [
    {
     "name": "stdout",
     "output_type": "stream",
     "text": [
      "Enter range: 50\n",
      "Enter number of random numbers req: 69\n",
      "8 20 36 16 20 42 46 28 30 42 20 10 12 40 20 6 10 4 2 38 30 46 40 16 48 16 40 30 6 6 26 16 30 34 48 32 28 16 44 2 2 40 10 24 12 32 28 12 16 24 16 30 44 24 34 10 12 34 18 0 36 28 30 42 10 20 36 4 4 "
     ]
    }
   ],
   "source": [
    "import random\n",
    "n=int(input(\"Enter range: \"))\n",
    "num=int(input(\"Enter number of random numbers req: \"))\n",
    "for x in range(num):\n",
    "    print(random.randrange(0,n, 2), end=' ')"
   ]
  },
  {
   "cell_type": "markdown",
   "metadata": {},
   "source": [
    "##### 9.\n",
    "Write a function that takes a list of integers, and returns the number of primes in the list."
   ]
  },
  {
   "cell_type": "code",
   "execution_count": 50,
   "metadata": {},
   "outputs": [
    {
     "name": "stdout",
     "output_type": "stream",
     "text": [
      "Enter number of entries 10\n",
      "Enter a Number 7\n",
      "Enter a Number 12\n",
      "Enter a Number 56\n",
      "Enter a Number 43\n",
      "Enter a Number 67\n",
      "Enter a Number 91\n",
      "Enter a Number 13\n",
      "Enter a Number 10\n",
      "Enter a Number 69\n",
      "Enter a Number 54\n",
      "[7, 12, 56, 43, 67, 91, 13, 10, 69, 54]\n",
      "7  is a Prime\n",
      "12 is not a Prime\n",
      "56 is not a Prime\n",
      "43  is a Prime\n",
      "67  is a Prime\n",
      "91 is not a Prime\n",
      "13  is a Prime\n",
      "10 is not a Prime\n",
      "69 is not a Prime\n",
      "54 is not a Prime\n"
     ]
    }
   ],
   "source": [
    "def test_prime(n):\n",
    "    if (n==1):\n",
    "        return False\n",
    "    elif (n==2):\n",
    "        return True;\n",
    "    else:\n",
    "        for x in range(2,n):\n",
    "            if(n % x==0):\n",
    "                return False\n",
    "        return True \n",
    "list=[]    #initialize list\n",
    "n=int(input(\"Enter number of entries \"))\n",
    "sum=0   #initialize sum\n",
    "for i in range(n): #i is incremented from 0 to n\n",
    "    ele = int(input(\"Enter a Number \"))\n",
    "    if ele>=0:\n",
    "        list.append(ele) # element is added to end of list (Appended)\n",
    "    else:\n",
    "        ele = int(input(\"Not accepted you must Enter a positive Number\"))\n",
    "        list.append(ele)\n",
    "        \n",
    "print(list)\n",
    "for i in list:\n",
    "    if test_prime(i):\n",
    "        print(i,\" is a Prime\")\n",
    "    else:\n",
    "        print(i,\"is not a Prime\")\n",
    "\n"
   ]
  },
  {
   "cell_type": "markdown",
   "metadata": {},
   "source": [
    "##### 10.\n",
    "Write a program that reads a file and writes out a new file with the lines in reversed order (i.e. the first line in the old file becomes the last one in the new file.)"
   ]
  },
  {
   "cell_type": "code",
   "execution_count": 16,
   "metadata": {},
   "outputs": [
    {
     "name": "stdout",
     "output_type": "stream",
     "text": [
      "hsss\n",
      "\n",
      "There is a snake in msrit\n",
      "\n",
      "And so are you\n",
      "\n",
      "Sugar is sweet\n",
      "\n",
      "Violets are blue\n",
      "\n",
      "Roses are red\n",
      "\n"
     ]
    }
   ],
   "source": [
    "\n",
    "# Open the file in write mode\n",
    "f2 = open(\"reversed_text.txt\", \"w\")\n",
    " \n",
    " \n",
    "# Open the input file again and get \n",
    "# the content as list to a variable data\n",
    "with open(\"original_text.txt\", \"r\") as myfile:\n",
    "    data = myfile.readlines()\n",
    " \n",
    "# We will just reverse the \n",
    "# array using following code\n",
    "data_2 = data[::-1]\n",
    "for i in range(len(data_2)):\n",
    "    print(data_2[i])\n",
    " \n",
    "# Now we will write the fully reverse \n",
    "# list in the output2 file using \n",
    "# following command\n",
    "f2.writelines(data_2)\n",
    " \n",
    "f2.close()"
   ]
  },
  {
   "cell_type": "markdown",
   "metadata": {},
   "source": [
    "##### 11.\n",
    "Write a Python program to generate a series of unique random numbers using the random module"
   ]
  },
  {
   "cell_type": "markdown",
   "metadata": {},
   "source": [
    "Repetition of Q8"
   ]
  },
  {
   "cell_type": "markdown",
   "metadata": {},
   "source": [
    "##### 12.\n",
    "Write a Python program to read a file line by line and store it into a list.\n",
    "Write a python program to find the longest words."
   ]
  },
  {
   "cell_type": "code",
   "execution_count": 17,
   "metadata": {},
   "outputs": [
    {
     "name": "stdout",
     "output_type": "stream",
     "text": [
      "['Violets']\n"
     ]
    }
   ],
   "source": [
    "def longest_word(filename):\n",
    "    with open(filename, 'r') as infile:\n",
    "              words = infile.read().split()\n",
    "    max_len = len(max(words, key=len))\n",
    "    return [word for word in words if len(word) == max_len]\n",
    "\n",
    "print(longest_word('original_text.txt'))"
   ]
  },
  {
   "cell_type": "markdown",
   "metadata": {},
   "source": [
    "##### 13.\n",
    "Write a python program to produce a list of unique element  from the input list which contains duplicates of the elements in the list\n",
    "Expected output:\n",
    "Input list: [1,2,3,3,3,3,5,6,9,9]\n",
    "Output list: [1,2,3,5,6,9]\n"
   ]
  },
  {
   "cell_type": "markdown",
   "metadata": {},
   "source": [
    "Repetition"
   ]
  },
  {
   "cell_type": "markdown",
   "metadata": {},
   "source": [
    "##### 14.\n",
    "Write a program that reads a file and prints only those lines that contain the substring snake."
   ]
  },
  {
   "cell_type": "code",
   "execution_count": 19,
   "metadata": {},
   "outputs": [
    {
     "name": "stdout",
     "output_type": "stream",
     "text": [
      "There is a snake in msrit\n",
      "\n"
     ]
    }
   ],
   "source": [
    "dataLog = []\n",
    "with open('original_text.txt', 'rt') as f:\n",
    "    data = f.readlines()\n",
    "for line in data:\n",
    "    if line.__contains__('snake'):\n",
    "        print(line)\n",
    "        dataLog.append(line)\n",
    "\n",
    "    "
   ]
  },
  {
   "cell_type": "markdown",
   "metadata": {},
   "source": [
    "##### 15.\n",
    "Write a Python program to get a single random element from a specified string "
   ]
  },
  {
   "cell_type": "code",
   "execution_count": 56,
   "metadata": {},
   "outputs": [
    {
     "name": "stdout",
     "output_type": "stream",
     "text": [
      "Enter String: expelliarmus\n",
      "l\n"
     ]
    }
   ],
   "source": [
    "import random\n",
    "print(random.choice(input('Enter String: ')))\n",
    "    \n"
   ]
  },
  {
   "cell_type": "markdown",
   "metadata": {},
   "source": [
    "##### 16.\n",
    "Write a Python program to get a single random element from a specified string using the random module\n",
    "\n"
   ]
  },
  {
   "cell_type": "markdown",
   "metadata": {},
   "source": [
    "Repetition"
   ]
  },
  {
   "cell_type": "markdown",
   "metadata": {},
   "source": [
    "##### 17.\n",
    "Write a Python program to print a string five times, delay three seconds using the time module."
   ]
  },
  {
   "cell_type": "code",
   "execution_count": 58,
   "metadata": {},
   "outputs": [
    {
     "name": "stdout",
     "output_type": "stream",
     "text": [
      "a string \n",
      "a string \n",
      "a string \n",
      "a string \n",
      "a string \n"
     ]
    }
   ],
   "source": [
    "import time \n",
    "x=0\n",
    "while x<5:\n",
    "    print(\"a string \")\n",
    "    time.sleep(3)\n",
    "    x=x+1"
   ]
  },
  {
   "cell_type": "markdown",
   "metadata": {},
   "source": [
    "##### 18.\n",
    "Write a Python program to count the frequency of words in a file."
   ]
  },
  {
   "cell_type": "code",
   "execution_count": 20,
   "metadata": {},
   "outputs": [
    {
     "name": "stdout",
     "output_type": "stream",
     "text": [
      "Number of words in the file : Counter({'are': 3, 'is': 2, 'Roses': 1, 'red': 1, 'Violets': 1, 'blue': 1, 'Sugar': 1, 'sweet': 1, 'And': 1, 'so': 1, 'you': 1, 'There': 1, 'a': 1, 'snake': 1, 'in': 1, 'msrit': 1, 'hsss': 1})\n"
     ]
    }
   ],
   "source": [
    "from collections import Counter\n",
    "def word_count(fname):\n",
    "        with open(fname) as f:\n",
    "                return Counter(f.read().split())\n",
    "\n",
    "print(\"Number of words in the file :\",word_count(\"original_text.txt\"))"
   ]
  },
  {
   "cell_type": "markdown",
   "metadata": {},
   "source": [
    "##### 19.\n",
    "Design and implement a program that reads a file and prints only those lines that contain the substring “msrit”"
   ]
  },
  {
   "cell_type": "code",
   "execution_count": 21,
   "metadata": {},
   "outputs": [
    {
     "name": "stdout",
     "output_type": "stream",
     "text": [
      "There is a snake in msrit\n",
      "\n"
     ]
    }
   ],
   "source": [
    "dataLog = []\n",
    "with open('original_text.txt', 'rt') as f:\n",
    "    data = f.readlines()\n",
    "for line in data:\n",
    "    if line.__contains__('msrit'):\n",
    "        print(line)\n",
    "        dataLog.append(line)\n"
   ]
  }
 ],
 "metadata": {
  "kernelspec": {
   "display_name": "Python 3",
   "language": "python",
   "name": "python3"
  },
  "language_info": {
   "codemirror_mode": {
    "name": "ipython",
    "version": 3
   },
   "file_extension": ".py",
   "mimetype": "text/x-python",
   "name": "python",
   "nbconvert_exporter": "python",
   "pygments_lexer": "ipython3",
   "version": "3.8.3"
  }
 },
 "nbformat": 4,
 "nbformat_minor": 4
}
