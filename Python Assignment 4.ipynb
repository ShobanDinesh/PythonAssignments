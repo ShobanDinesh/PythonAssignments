{
 "cells": [
  {
   "cell_type": "markdown",
   "metadata": {},
   "source": [
    "##### Assignment 4\n",
    "Suraj K Nair\n",
    "1MS17ME185"
   ]
  },
  {
   "cell_type": "markdown",
   "metadata": {},
   "source": [
    "##### 1.a\n",
    "Design and implement a python class named circle constructed by a radius and two methods which will compute the area and the perimeter of the circle.\n"
   ]
  },
  {
   "cell_type": "code",
   "execution_count": 3,
   "metadata": {},
   "outputs": [
    {
     "name": "stdout",
     "output_type": "stream",
     "text": [
      "Enter radius: 1\n",
      "3.14\n",
      "6.28\n"
     ]
    }
   ],
   "source": [
    "#class Definition\n",
    "class Circle():\n",
    "    #initialization of class instances\n",
    "    def __init__(self, r):\n",
    "        self.radius = r\n",
    "#method to find area\n",
    "    def area(self):\n",
    "        return self.radius**2*3.14\n",
    "#method to find perimeter    \n",
    "    def perimeter(self):\n",
    "        return 2*self.radius*3.14\n",
    "#newcircle is an instance of class circle\n",
    "NewCircle = Circle(int(input(\"Enter radius: \")))\n",
    "print(NewCircle.area())\n",
    "print(NewCircle.perimeter())"
   ]
  },
  {
   "cell_type": "markdown",
   "metadata": {},
   "source": [
    "##### 1.b\n",
    "Implement a class called country, which represents a country with a name, a population, and an area. Define country with a constructor that has four parameters: country, name, population and its area."
   ]
  },
  {
   "cell_type": "code",
   "execution_count": 39,
   "metadata": {},
   "outputs": [],
   "source": [
    "class country:\n",
    "    def __init__(self,country,name,population,area):\n",
    "        self.c=country\n",
    "        self.n=name\n",
    "        self.p=population\n",
    "        self.a=area\n",
    "c1=country('India','Hindustan','1.3billion','a_lot')"
   ]
  },
  {
   "cell_type": "markdown",
   "metadata": {},
   "source": [
    "##### 2.\n",
    "Design and implement a python program that describes the class rocket with its attributes as x and y values. Create a fleet of 5 rockets and display its x and y positions using suitable methods inside the class."
   ]
  },
  {
   "cell_type": "code",
   "execution_count": 38,
   "metadata": {},
   "outputs": [
    {
     "name": "stdout",
     "output_type": "stream",
     "text": [
      "Enter x1\n",
      "Enter y2\n",
      "1 2\n",
      "Enter x3\n",
      "Enter y4\n",
      "3 4\n",
      "Enter x5\n",
      "Enter y6\n",
      "5 6\n",
      "Enter x7\n",
      "Enter y8\n",
      "7 8\n",
      "Enter x9\n",
      "Enter y0\n",
      "9 0\n"
     ]
    }
   ],
   "source": [
    "class rocket:\n",
    "    def __init__(self,x,y):\n",
    "        self.X=x\n",
    "        self.Y=y\n",
    "    def display(self):\n",
    "        print(self.X,self.Y)\n",
    "for i in range(5):\n",
    "    x = int(input('Enter x'))\n",
    "    y = int(input('Enter y'))\n",
    "    r=rocket(x,y)\n",
    "    r.display()"
   ]
  },
  {
   "cell_type": "markdown",
   "metadata": {},
   "source": [
    "##### 3.\n",
    "Design and implement a program with class student having two methods with name set () but accepts different number of arguments. Include necessary methods to display the student details. "
   ]
  },
  {
   "cell_type": "code",
   "execution_count": 51,
   "metadata": {},
   "outputs": [
    {
     "name": "stdout",
     "output_type": "stream",
     "text": [
      "Name: Suraj\n",
      "Age: 21\n",
      "Mark 1: 90\n",
      "Mark 2: 91\n"
     ]
    }
   ],
   "source": [
    "class student:\n",
    "    name = None \n",
    "    age = None \n",
    "    m1, m2 = None, None\n",
    "    def __init__(self, name):\n",
    "        self.name = name\n",
    "    def set(self,variable1, variable2=None):\n",
    "        if variable2 is None:\n",
    "            self.age = variable1\n",
    "        else:\n",
    "            self.m1 = variable1\n",
    "            self.m2 = variable2\n",
    "    def display_details(self):\n",
    "        print('Name:',self.name)\n",
    "        print('Age:',self.age)\n",
    "    def display_marks(self):\n",
    "        print('Mark 1:',self.m1)\n",
    "        print('Mark 2:',self.m2)\n",
    "S1 = student('Suraj')\n",
    "S1.set(21)\n",
    "S1.set(90,91)\n",
    "S1.display_details()\n",
    "S1.display_marks()"
   ]
  },
  {
   "cell_type": "markdown",
   "metadata": {},
   "source": [
    "##### 4.\n",
    "Write a function named readposint that uses the input dialog to prompt the user for a positive integer and then checks the input to confirm that it meets the requirements. It should be able to handle inputs that cannot be converted to int, as well as negative ints."
   ]
  },
  {
   "cell_type": "code",
   "execution_count": 56,
   "metadata": {},
   "outputs": [
    {
     "name": "stdout",
     "output_type": "stream",
     "text": [
      "Enter Positive Integer: -1\n",
      "input not positive\n",
      "Enter Positive Integer: minus one\n",
      "input not integer\n",
      "Enter Positive Integer: 1\n"
     ]
    }
   ],
   "source": [
    "def readposint():\n",
    "    n=input(\"Enter Positive Integer: \")\n",
    "    try:\n",
    "        n = int(n)\n",
    "        if n<0:\n",
    "            print('input not positive')\n",
    "            readposint()\n",
    "    except:\n",
    "        print('input not integer')\n",
    "        readposint()\n",
    "readposint()"
   ]
  },
  {
   "cell_type": "markdown",
   "metadata": {},
   "source": [
    "##### 5.\n",
    "Design and implement a program that accepts two numbers separated by comma and performs a division of two numbers. Include exceptions for the necessary conditions with finally clause.\n"
   ]
  },
  {
   "cell_type": "code",
   "execution_count": 63,
   "metadata": {},
   "outputs": [
    {
     "name": "stdout",
     "output_type": "stream",
     "text": [
      "Enter numerator,denominator: 5,0\n",
      "cannot divide by zero\n",
      "Quotient:  None\n"
     ]
    }
   ],
   "source": [
    "q=None\n",
    "a,b = input(\"Enter numerator,denominator: \").split(',')\n",
    "a,b=int(a),int(b)\n",
    "try:\n",
    "    q=a/b\n",
    "    \n",
    "except:\n",
    "    print(\"cannot divide by zero\")\n",
    "finally:\n",
    "    print(\"Quotient: \",q)"
   ]
  },
  {
   "cell_type": "markdown",
   "metadata": {},
   "source": [
    "##### 6.\n",
    "Write a Python class to find the three elements that sum to zero from a set of n real numbers."
   ]
  },
  {
   "cell_type": "code",
   "execution_count": 81,
   "metadata": {},
   "outputs": [
    {
     "data": {
      "text/plain": [
       "(2, 1, 0)"
      ]
     },
     "execution_count": 81,
     "metadata": {},
     "output_type": "execute_result"
    }
   ],
   "source": [
    "class solution:\n",
    "    def twosum(self,list,target):\n",
    "        a,b,c = 0,0,0\n",
    "        for i in range(len(list)):\n",
    "            for j in range(len(list)):\n",
    "                for k in range(len(list)): \n",
    "                    if i!=j and j!=k and k!=i:\n",
    "                        if list[i]+list[j]+list[k]==target:\n",
    "                            a=i\n",
    "                            b=j\n",
    "                            c=k\n",
    "        return(a,b,c)\n",
    "list=[10,-20,10,40,50,60,70]\n",
    "target = 0\n",
    "s=solution()\n",
    "s.twosum(list,target)"
   ]
  },
  {
   "cell_type": "markdown",
   "metadata": {},
   "source": [
    "##### 7.\n",
    "Write an interactive program to compute the square root of a number. The input values must be tested for validity. if it is negative the user defined method MySqrt() should raise an exception."
   ]
  },
  {
   "cell_type": "code",
   "execution_count": 90,
   "metadata": {},
   "outputs": [
    {
     "name": "stdout",
     "output_type": "stream",
     "text": [
      "Enter positive integer: -100\n"
     ]
    },
    {
     "ename": "Exception",
     "evalue": "Sorry, no numbers below zero",
     "output_type": "error",
     "traceback": [
      "\u001b[1;31m---------------------------------------------------------------------------\u001b[0m",
      "\u001b[1;31mException\u001b[0m                                 Traceback (most recent call last)",
      "\u001b[1;32m<ipython-input-90-88640dbf43a4>\u001b[0m in \u001b[0;36m<module>\u001b[1;34m\u001b[0m\n\u001b[0;32m      7\u001b[0m \u001b[0mn\u001b[0m\u001b[1;33m=\u001b[0m\u001b[0mint\u001b[0m\u001b[1;33m(\u001b[0m\u001b[0minput\u001b[0m\u001b[1;33m(\u001b[0m\u001b[1;34m\"Enter positive integer: \"\u001b[0m\u001b[1;33m)\u001b[0m\u001b[1;33m)\u001b[0m\u001b[1;33m\u001b[0m\u001b[1;33m\u001b[0m\u001b[0m\n\u001b[0;32m      8\u001b[0m \u001b[1;33m\u001b[0m\u001b[0m\n\u001b[1;32m----> 9\u001b[1;33m \u001b[0mMySqrt\u001b[0m\u001b[1;33m(\u001b[0m\u001b[0mn\u001b[0m\u001b[1;33m)\u001b[0m\u001b[1;33m\u001b[0m\u001b[1;33m\u001b[0m\u001b[0m\n\u001b[0m",
      "\u001b[1;32m<ipython-input-90-88640dbf43a4>\u001b[0m in \u001b[0;36mMySqrt\u001b[1;34m(n)\u001b[0m\n\u001b[0;32m      1\u001b[0m \u001b[1;32mdef\u001b[0m \u001b[0mMySqrt\u001b[0m\u001b[1;33m(\u001b[0m\u001b[0mn\u001b[0m\u001b[1;33m)\u001b[0m\u001b[1;33m:\u001b[0m\u001b[1;33m\u001b[0m\u001b[1;33m\u001b[0m\u001b[0m\n\u001b[0;32m      2\u001b[0m     \u001b[1;32mif\u001b[0m \u001b[0mn\u001b[0m \u001b[1;33m<\u001b[0m \u001b[1;36m0\u001b[0m\u001b[1;33m:\u001b[0m\u001b[1;33m\u001b[0m\u001b[1;33m\u001b[0m\u001b[0m\n\u001b[1;32m----> 3\u001b[1;33m         \u001b[1;32mraise\u001b[0m \u001b[0mException\u001b[0m\u001b[1;33m(\u001b[0m\u001b[1;34m\"Sorry, no numbers below zero\"\u001b[0m\u001b[1;33m)\u001b[0m\u001b[1;33m\u001b[0m\u001b[1;33m\u001b[0m\u001b[0m\n\u001b[0m\u001b[0;32m      4\u001b[0m     \u001b[0msqrt\u001b[0m\u001b[1;33m=\u001b[0m\u001b[0mn\u001b[0m\u001b[1;33m**\u001b[0m\u001b[1;33m(\u001b[0m\u001b[1;36m1\u001b[0m\u001b[1;33m/\u001b[0m\u001b[1;36m2\u001b[0m\u001b[1;33m)\u001b[0m\u001b[1;33m\u001b[0m\u001b[1;33m\u001b[0m\u001b[0m\n\u001b[0;32m      5\u001b[0m     \u001b[0mprint\u001b[0m\u001b[1;33m(\u001b[0m\u001b[1;34m\"Root= \"\u001b[0m\u001b[1;33m,\u001b[0m\u001b[0msqrt\u001b[0m\u001b[1;33m)\u001b[0m\u001b[1;33m\u001b[0m\u001b[1;33m\u001b[0m\u001b[0m\n",
      "\u001b[1;31mException\u001b[0m: Sorry, no numbers below zero"
     ]
    }
   ],
   "source": [
    "def MySqrt(n):\n",
    "    if n < 0:\n",
    "        raise Exception(\"Sorry, no numbers below zero\")\n",
    "    sqrt=n**(1/2)\n",
    "    print(\"Root= \",sqrt)\n",
    "    \n",
    "n=int(input(\"Enter positive integer: \"))\n",
    "\n",
    "MySqrt(n)"
   ]
  },
  {
   "cell_type": "markdown",
   "metadata": {},
   "source": [
    "##### 8.\n",
    "Write a Python class to implement pow(x, n)"
   ]
  },
  {
   "cell_type": "code",
   "execution_count": 91,
   "metadata": {},
   "outputs": [
    {
     "name": "stdout",
     "output_type": "stream",
     "text": [
      "Enter base: 2\n",
      "Enter exponent: 5\n"
     ]
    },
    {
     "data": {
      "text/plain": [
       "32"
      ]
     },
     "execution_count": 91,
     "metadata": {},
     "output_type": "execute_result"
    }
   ],
   "source": [
    "class math:\n",
    "    def pow(x,n):\n",
    "        return(x**n)\n",
    "x=int(input(\"Enter base: \"))\n",
    "n=int(input(\"Enter exponent: \"))\n",
    "math.pow(x,n)"
   ]
  },
  {
   "cell_type": "markdown",
   "metadata": {},
   "source": [
    "##### 9.\n",
    "Write a Python class to find a pair of elements (indices of the two numbers) from a given array whose sum equals a specific target number."
   ]
  },
  {
   "cell_type": "code",
   "execution_count": 94,
   "metadata": {},
   "outputs": [
    {
     "data": {
      "text/plain": [
       "(40, 10)"
      ]
     },
     "execution_count": 94,
     "metadata": {},
     "output_type": "execute_result"
    }
   ],
   "source": [
    "class solution:\n",
    "    def twosum(self,list,target):\n",
    "        a,b = 0,0\n",
    "        for i in range(len(list)):\n",
    "            for j in range(len(list)):\n",
    "                if list[i]+list[j]==target:\n",
    "                    a=list[i]\n",
    "                    b=list[j]\n",
    "        return(a,b)\n",
    "list=[10,20,10,40,50,60,70]\n",
    "target = 50\n",
    "s=solution()\n",
    "s.twosum(list,target)\n"
   ]
  },
  {
   "cell_type": "markdown",
   "metadata": {},
   "source": [
    "##### 10.\n",
    "Write a Python class to reverse a string word by word.\n",
    "Input string : 'hello .py'\n",
    "Expected Output : '.py hello'"
   ]
  },
  {
   "cell_type": "code",
   "execution_count": 100,
   "metadata": {},
   "outputs": [
    {
     "name": "stdout",
     "output_type": "stream",
     "text": [
      ".py hello\n"
     ]
    }
   ],
   "source": [
    "class py_solution:\n",
    "    def reverse_words(self, s):\n",
    "        return ' '.join(reversed(s.split()))\n",
    "print(py_solution().reverse_words('hello .py'))"
   ]
  },
  {
   "cell_type": "markdown",
   "metadata": {},
   "source": [
    "##### 11.\n",
    "Write a Python class to get all possible unique subsets from a set of distinct integers"
   ]
  },
  {
   "cell_type": "code",
   "execution_count": 103,
   "metadata": {},
   "outputs": [
    {
     "name": "stdout",
     "output_type": "stream",
     "text": [
      "[[], [4], [2], [2, 4], [0], [0, 4], [0, 2], [0, 2, 4]]\n"
     ]
    }
   ],
   "source": [
    "class py_solution:\n",
    "    def sub_sets(self, sset):\n",
    "        return self.subsetsRecur([], sorted(sset))\n",
    "    \n",
    "    def subsetsRecur(self, current, sset):\n",
    "        if sset:\n",
    "            return self.subsetsRecur(current, sset[1:]) + self.subsetsRecur(current + [sset[0]], sset[1:])\n",
    "        return [current]\n",
    "\n",
    "print(py_solution().sub_sets([4,2,0]))#4,2,0 are distinct integers"
   ]
  },
  {
   "cell_type": "markdown",
   "metadata": {},
   "source": [
    "##### 12.\n",
    "Write a Python class which has two methods get_String and print_String. get_String accept a string from the user and print_String print the string in upper case.\n"
   ]
  },
  {
   "cell_type": "code",
   "execution_count": 104,
   "metadata": {},
   "outputs": [
    {
     "name": "stdout",
     "output_type": "stream",
     "text": [
      "give string\n",
      "GIVE STRING\n"
     ]
    }
   ],
   "source": [
    "class IOString():#class def\n",
    "    def get_String(self):\n",
    "        self.str1 = input()\n",
    "\n",
    "    def print_String(self):\n",
    "        print(self.str1.upper())\n",
    "\n",
    "str1 = IOString()\n",
    "str1.get_String()\n",
    "str1.print_String()"
   ]
  },
  {
   "cell_type": "markdown",
   "metadata": {},
   "source": [
    "##### 13.\n",
    "Write a Python class to convert a roman numeral to an integer\n"
   ]
  },
  {
   "cell_type": "code",
   "execution_count": 107,
   "metadata": {},
   "outputs": [
    {
     "name": "stdout",
     "output_type": "stream",
     "text": [
      "Enter Roman Numeral: XL\n",
      "40\n"
     ]
    }
   ],
   "source": [
    "class py_solution:\n",
    "    def roman_to_int(self, s):\n",
    "        rom_val = {'I': 1, 'V': 5, 'X': 10, 'L': 50, 'C': 100, 'D': 500, 'M': 1000}\n",
    "        int_val = 0\n",
    "        for i in range(len(s)):\n",
    "            if i > 0 and rom_val[s[i]] > rom_val[s[i - 1]]:\n",
    "                int_val += rom_val[s[i]] - 2 * rom_val[s[i - 1]]\n",
    "            else:\n",
    "                int_val += rom_val[s[i]]\n",
    "        return int_val\n",
    "\n",
    "print(py_solution().roman_to_int(input(\"Enter Roman Numeral: \")))\n"
   ]
  },
  {
   "cell_type": "markdown",
   "metadata": {},
   "source": [
    "##### 14.\n",
    "Write a Python class named Rectangle constructed by a length and width and a method which will compute the area of a rectangle."
   ]
  },
  {
   "cell_type": "code",
   "execution_count": 18,
   "metadata": {},
   "outputs": [
    {
     "name": "stdout",
     "output_type": "stream",
     "text": [
      "Enter length: 10\n",
      "Enter Width: 20\n",
      "200\n"
     ]
    }
   ],
   "source": [
    "class Rectangle():\n",
    "    def __init__(self, l, w):\n",
    "        self.length = l\n",
    "        self.width  = w\n",
    "\n",
    "    def rectangle_area(self):\n",
    "        return self.length*self.width\n",
    "L=int(input(\"Enter length: \"))\n",
    "W=int(input(\"Enter Width: \"))\n",
    "newRectangle = Rectangle(L, W)\n",
    "print(newRectangle.rectangle_area())\n",
    "    "
   ]
  },
  {
   "cell_type": "markdown",
   "metadata": {},
   "source": [
    "##### 15.\n",
    "Design and implement a program that accepts two numbers separated by comma and performs a division of two numbers. Include exceptions for the necessary conditions with finally clause."
   ]
  },
  {
   "cell_type": "code",
   "execution_count": 111,
   "metadata": {},
   "outputs": [
    {
     "name": "stdout",
     "output_type": "stream",
     "text": [
      "Enter num,den: 100,5\n",
      "20.0\n",
      "Congrats\n"
     ]
    }
   ],
   "source": [
    "a,b=input(\"Enter num,den: \").split(\",\")\n",
    "a,b=int(a),int(b)\n",
    "try:\n",
    "    q=a/b\n",
    "    print(q)\n",
    "except:\n",
    "    print(\"Cannot divide by zero\")\n",
    "finally:\n",
    "    print(\"Congrats\")\n",
    "    \n"
   ]
  },
  {
   "cell_type": "markdown",
   "metadata": {},
   "source": [
    "##### 16.\n",
    "Write a Python class to find a pair of elements (indices of the two numbers) from a given array whose sum equals a specific target number\n",
    "Input: numbers= [10,20,10,40,50,60,70], target=50\n",
    "Output: 3, 4"
   ]
  },
  {
   "cell_type": "code",
   "execution_count": 77,
   "metadata": {},
   "outputs": [
    {
     "data": {
      "text/plain": [
       "(4, 3)"
      ]
     },
     "execution_count": 77,
     "metadata": {},
     "output_type": "execute_result"
    }
   ],
   "source": [
    "class solution:\n",
    "    def twosum(self,list,target):\n",
    "        a,b = 0,0\n",
    "        for i in range(len(list)):\n",
    "            for j in range(len(list)):\n",
    "                if list[i]+list[j]==target:\n",
    "                    a=i+1\n",
    "                    b=j+1\n",
    "        return(a,b)\n",
    "list=[10,20,10,40,50,60,70]\n",
    "target = 50\n",
    "s=solution()\n",
    "s.twosum(list,target)"
   ]
  }
 ],
 "metadata": {
  "kernelspec": {
   "display_name": "Python 3",
   "language": "python",
   "name": "python3"
  },
  "language_info": {
   "codemirror_mode": {
    "name": "ipython",
    "version": 3
   },
   "file_extension": ".py",
   "mimetype": "text/x-python",
   "name": "python",
   "nbconvert_exporter": "python",
   "pygments_lexer": "ipython3",
   "version": "3.8.3"
  }
 },
 "nbformat": 4,
 "nbformat_minor": 4
}
