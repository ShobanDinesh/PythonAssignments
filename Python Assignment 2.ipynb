{
 "cells": [
  {
   "cell_type": "markdown",
   "metadata": {},
   "source": [
    "##### Assignment 2\n",
    "Suraj K Nair\n",
    "1MS17ME185"
   ]
  },
  {
   "cell_type": "markdown",
   "metadata": {},
   "source": [
    "##### 1.\n",
    "Design and implement a python program to get a string made of the first 2 and the last 2 chars from a given string. If the string length is less than 2 return instead the empty string."
   ]
  },
  {
   "cell_type": "code",
   "execution_count": 7,
   "metadata": {},
   "outputs": [
    {
     "name": "stdout",
     "output_type": "stream",
     "text": [
      "Enter string: horse\n",
      "hose\n"
     ]
    }
   ],
   "source": [
    "word=str(input(\"Enter string: \"))\n",
    "if len(word)<=2:\n",
    "    print(\"\")\n",
    "else:\n",
    "    b=(word[:2]+ word[-2:])\n",
    "    print(b)"
   ]
  },
  {
   "cell_type": "markdown",
   "metadata": {},
   "source": [
    "##### 2.\n",
    "Design and implement a python program to count the number 4 in a given list"
   ]
  },
  {
   "cell_type": "code",
   "execution_count": 13,
   "metadata": {},
   "outputs": [
    {
     "name": "stdout",
     "output_type": "stream",
     "text": [
      "Enter number of elements : 4\n",
      "Enter element: 4\n",
      "Enter element: 4\n",
      "Enter element: 4\n",
      "Enter element: 4\n",
      "[4, 4, 4, 4]\n",
      "Count: 4\n"
     ]
    }
   ],
   "source": [
    "list = [] \n",
    "count = 0\n",
    "n = int(input(\"Enter number of elements : \")) \n",
    "  \n",
    "for i in range(0, n): \n",
    "    ele = int(input(\"Enter element: \"))\n",
    "    if ele==4:\n",
    "      count+=1\n",
    "    list.append(ele)\n",
    "print(list)\n",
    "print(\"Count:\",count)"
   ]
  },
  {
   "cell_type": "markdown",
   "metadata": {},
   "source": [
    "##### 3.\n",
    "Design and implement a python program to generate and print list except the first 5 elements, where the values are square of numbers between 1 and 30(both included)."
   ]
  },
  {
   "cell_type": "code",
   "execution_count": 14,
   "metadata": {},
   "outputs": [
    {
     "name": "stdout",
     "output_type": "stream",
     "text": [
      "Enter number of elements : 30\n",
      "[36, 49, 64, 81, 100, 121, 144, 169, 196, 225, 256, 289, 324, 361, 400, 441, 484, 529, 576, 625, 676, 729, 784, 841, 900]\n"
     ]
    }
   ],
   "source": [
    "list = []\n",
    "n = int(input(\"Enter number of elements : \"))\n",
    "\n",
    "for i in range(1,n+1):\n",
    "  ele = i*i\n",
    "  list.append(ele)\n",
    "\n",
    "print(list[5:])"
   ]
  },
  {
   "cell_type": "markdown",
   "metadata": {},
   "source": [
    "##### 4.\n",
    "Design and implement a python function that takes two lists and returns true if they have at least one common."
   ]
  },
  {
   "cell_type": "code",
   "execution_count": 23,
   "metadata": {},
   "outputs": [
    {
     "name": "stdout",
     "output_type": "stream",
     "text": [
      "Enter number of elements in list1 : 4\n",
      "1\n",
      "2\n",
      "3\n",
      "4\n",
      "Enter number of elements in list2 : 4\n",
      "2\n",
      "4\n",
      "6\n",
      "8\n",
      "True\n"
     ]
    }
   ],
   "source": [
    "list1 , list2 = [] , []\n",
    "\n",
    "\n",
    "n1 = int(input(\"Enter number of elements in list1 : \")) \n",
    "for i in range(0, n1): \n",
    "    ele = int(input())\n",
    "    list1.append(ele)\n",
    "\n",
    "\n",
    "n2 = int(input(\"Enter number of elements in list2 : \")) \n",
    "for i in range(0, n2): \n",
    "    ele = int(input())\n",
    "    list2.append(ele)\n",
    "\n",
    "\n",
    "for x in list1:\n",
    "    for y in list2:\n",
    "        if x == y:\n",
    "             print(\"True\")\n",
    "        break\n",
    "    \n"
   ]
  },
  {
   "cell_type": "markdown",
   "metadata": {},
   "source": [
    "##### 5.\n",
    "Design and implement a python program to find the list of words that are no longer than n from a given list of words.\n"
   ]
  },
  {
   "cell_type": "code",
   "execution_count": 26,
   "metadata": {},
   "outputs": [
    {
     "name": "stdout",
     "output_type": "stream",
     "text": [
      "Enter word size n: 4\n",
      "Enter the Sentence: wubba lubba dub dub\n",
      "['wubba', 'lubba']\n"
     ]
    }
   ],
   "source": [
    "def long_words(n, str):\n",
    "    word_len = []\n",
    "    txt = str.split(\" \")\n",
    "    for x in txt:\n",
    "        if len(x) > n:\n",
    "            word_len.append(x)\n",
    "    return word_len\t\n",
    "n=int(input(\"Enter word size n: \"))\n",
    "sen=str(input(\"Enter the Sentence: \"))\n",
    "print(long_words(n, sen))"
   ]
  },
  {
   "cell_type": "markdown",
   "metadata": {},
   "source": [
    "##### 6.\n",
    "Design and implement a program to count the number of vowels present in a given list of strings using ‘in’ or ‘not in’ operator."
   ]
  },
  {
   "cell_type": "code",
   "execution_count": 40,
   "metadata": {},
   "outputs": [
    {
     "name": "stdout",
     "output_type": "stream",
     "text": [
      "Enter string: vowels\n",
      "No. of vowels : 2\n"
     ]
    }
   ],
   "source": [
    " def vowel_count(str): \n",
    "      \n",
    "    # Initializing count variable to 0 \n",
    "    count = 0\n",
    "      \n",
    "    # Creating a set of vowels \n",
    "    vowel = set(\"aeiouAEIOU\") \n",
    "      \n",
    "    # Loop to traverse the alphabet \n",
    "    # in the given string \n",
    "    for alphabet in str: \n",
    "      \n",
    "        # If alphabet is present \n",
    "        # in set vowel \n",
    "        if alphabet in vowel: \n",
    "            count = count + 1\n",
    "      \n",
    "    print(\"No. of vowels :\", count) \n",
    "      \n",
    "str1 = str(input(\"Enter string: \"))\n",
    "vowel_count(str1)\n",
    "  \n",
    "\n"
   ]
  },
  {
   "cell_type": "markdown",
   "metadata": {},
   "source": [
    "##### 7.\n",
    "Write a function char_freq() that takes a string and builds a frequency listing of the characters contained in it.\n",
    "Represent the frequency listing as a python dictionary."
   ]
  },
  {
   "cell_type": "code",
   "execution_count": 46,
   "metadata": {},
   "outputs": [
    {
     "name": "stdout",
     "output_type": "stream",
     "text": [
      "Enter a string: banana\n",
      "{'b': 1}\n",
      "{'b': 1, 'a': 1}\n",
      "{'b': 1, 'a': 1, 'n': 1}\n",
      "{'b': 1, 'a': 2, 'n': 1}\n",
      "{'b': 1, 'a': 2, 'n': 2}\n",
      "{'b': 1, 'a': 3, 'n': 2}\n",
      "Count of all characters is :\n",
      " {'b': 1, 'a': 3, 'n': 2}\n"
     ]
    }
   ],
   "source": [
    "all_freq = {}\n",
    "test_str = str(input(\"Enter a string: \")) \n",
    "  \n",
    "for i in test_str: \n",
    "    if i in all_freq: \n",
    "        all_freq[i] += 1\n",
    "    else: \n",
    "        all_freq[i] = 1\n",
    "    print(all_freq)\n",
    "  \n",
    "print (\"Count of all characters is :\\n \"\n",
    "                                        +  str(all_freq)) \n"
   ]
  },
  {
   "cell_type": "markdown",
   "metadata": {},
   "source": [
    "##### 8.\n",
    "Repetition of 6"
   ]
  },
  {
   "cell_type": "markdown",
   "metadata": {},
   "source": [
    "##### 9.\n",
    "Write a function called dict_intersect that takes two dictionaries as arguments and returns a dictionary that contains only the key/value pairs found in both of the original dictionaries."
   ]
  },
  {
   "cell_type": "code",
   "execution_count": 48,
   "metadata": {},
   "outputs": [
    {
     "name": "stdout",
     "output_type": "stream",
     "text": [
      "initial 1st dictionary {'nikhil': 1, 'vashu': 5, 'manjeet': 10, 'akshat': 15}\n",
      "initial 2nd dictionary {'akshat': 15, 'nikhil': 1, 'me': 56}\n",
      "final dictionary {'akshat': 15, 'nikhil': 1, 'me': 56}\n"
     ]
    }
   ],
   "source": [
    "ini_dict1 = {'nikhil': 1, 'vashu' : 5, \n",
    "             'manjeet' : 10, 'akshat' : 15} \n",
    "ini_dict2 = {'akshat' :15, 'nikhil' : 1, 'me' : 56} \n",
    "  \n",
    "# printing initial json \n",
    "print (\"initial 1st dictionary\", ini_dict1) \n",
    "print (\"initial 2nd dictionary\", ini_dict2) \n",
    "  \n",
    "# intersecting two dictionaries \n",
    "final_dict = dict(ini_dict1.items() and ini_dict2.items()) \n",
    "  \n",
    "# printing final result \n",
    "print (\"final dictionary\", str(final_dict))"
   ]
  },
  {
   "cell_type": "markdown",
   "metadata": {},
   "source": [
    "##### 10.\n",
    "Write a Python program to remove duplicates from a list."
   ]
  },
  {
   "cell_type": "code",
   "execution_count": 52,
   "metadata": {},
   "outputs": [
    {
     "name": "stdout",
     "output_type": "stream",
     "text": [
      "{40, 10, 80, 50, 20, 60, 30}\n"
     ]
    }
   ],
   "source": [
    "a = [10,20,30,20,10,50,60,40,80,50,40]\n",
    "\n",
    "dup_items = set()\n",
    "uniq_items = []\n",
    "for x in a:\n",
    "    if x not in dup_items:\n",
    "        uniq_items.append(x)\n",
    "        dup_items.add(x)\n",
    "\n",
    "print(dup_items)"
   ]
  },
  {
   "cell_type": "markdown",
   "metadata": {},
   "source": [
    "##### 11.\n",
    "Write a Python function that accepts a string and calculate the number of upper case letters and lower case letters. Sample String : 'The quick Brown Fox'\n",
    "Expected Output : \n",
    "No. of Upper case characters : 3 \n",
    "No. of Lower case Characters : 13"
   ]
  },
  {
   "cell_type": "code",
   "execution_count": 53,
   "metadata": {},
   "outputs": [
    {
     "name": "stdout",
     "output_type": "stream",
     "text": [
      "Original String :  The quick Brown Fox\n",
      "No. of Upper case characters :  3\n",
      "No. of Lower case Characters :  13\n"
     ]
    }
   ],
   "source": [
    "def string_test(s):\n",
    "    d={\"UPPER_CASE\":0, \"LOWER_CASE\":0}\n",
    "    for c in s:\n",
    "        if c.isupper():\n",
    "            d[\"UPPER_CASE\"]+=1\n",
    "        elif c.islower():\n",
    "            d[\"LOWER_CASE\"]+=1\n",
    "        else:\n",
    "            pass\n",
    "    print (\"Original String : \", s)\n",
    "    print (\"No. of Upper case characters : \", d[\"UPPER_CASE\"])\n",
    "    print (\"No. of Lower case Characters : \", d[\"LOWER_CASE\"])\n",
    "\n",
    "string_test('The quick Brown Fox')"
   ]
  },
  {
   "cell_type": "markdown",
   "metadata": {},
   "source": [
    "##### 12.\n",
    "Write a Python function that takes a list and returns a new list with unique elements of the first list\n",
    "Sample List : [1,2,3,3,3,3,4,5]\n",
    "Unique List : [1, 2, 3, 4, 5]"
   ]
  },
  {
   "cell_type": "code",
   "execution_count": 6,
   "metadata": {},
   "outputs": [
    {
     "name": "stdout",
     "output_type": "stream",
     "text": [
      "Enter list size: 8\n",
      "Enter list element: 1\n",
      "Enter list element: 2\n",
      "Enter list element: 3\n",
      "Enter list element: 3\n",
      "Enter list element: 3\n",
      "Enter list element: 3\n",
      "Enter list element: 4\n",
      "Enter list element: 5\n",
      "List:  [1, 2, 3, 3, 3, 3, 4, 5]\n",
      "Unique list:  [1, 2, 3, 4, 5]\n"
     ]
    }
   ],
   "source": [
    "def unique_list(n):\n",
    "    x=[]\n",
    "    for i in n:\n",
    "        if i not in x:\n",
    "            x.append(i)\n",
    "    return x\n",
    "list=[]\n",
    "n=int(input(\"Enter list size: \"))\n",
    "for a in range(n):\n",
    "    ele=int(input(\"Enter list element: \"))\n",
    "    list.append(ele)\n",
    "print(\"List: \",list)\n",
    "print(\"Unique list: \",unique_list(list))"
   ]
  },
  {
   "cell_type": "markdown",
   "metadata": {},
   "source": [
    "##### 13.\n",
    "Write a Python function that takes a number as a parameter and check the number is prime or not\n"
   ]
  },
  {
   "cell_type": "code",
   "execution_count": 13,
   "metadata": {},
   "outputs": [
    {
     "name": "stdout",
     "output_type": "stream",
     "text": [
      "Enter a number: 420\n",
      "Factors:  [1, 2, 3, 4, 5, 6, 7, 10, 12, 14, 15, 20, 21, 28, 30, 35, 42, 60, 70, 84, 105, 140, 210, 420]\n",
      "420  is not Prime\n"
     ]
    }
   ],
   "source": [
    "n=int(input(\"Enter a number: \"))\n",
    "factors=[]\n",
    "for i in range(1,n+1):\n",
    "    if (n%i)==0:\n",
    "        factors.append(i)\n",
    "print(\"Factors: \",factors)\n",
    "if len(factors)>2:\n",
    "    print(n,\" is not Prime\")\n",
    "else:\n",
    "    print(n,\" is Prime\")"
   ]
  },
  {
   "cell_type": "markdown",
   "metadata": {},
   "source": [
    "##### 14.\n",
    "Write a Python program to check whether a list contains a sublist."
   ]
  },
  {
   "cell_type": "code",
   "execution_count": 47,
   "metadata": {},
   "outputs": [
    {
     "name": "stdout",
     "output_type": "stream",
     "text": [
      "Sublist not found\n"
     ]
    }
   ],
   "source": [
    "seq=[1,2,3,4,5,6,7,8,9]\n",
    "subseq=[3,5]\n",
    "\n",
    "n = len(seq)\n",
    "m = len(subseq)\n",
    "for i in range(n - m + 1):\n",
    "    found = True\n",
    "    for j in range(m):\n",
    "        if seq[i + j] != subseq[j]:\n",
    "            found = False\n",
    "            break\n",
    "    if found:\n",
    "        print(\"subset found at index:\",i)\n",
    "if  found==False:\n",
    "    print(\"Sublist not found\")\n",
    "\n",
    "    "
   ]
  },
  {
   "cell_type": "markdown",
   "metadata": {},
   "source": [
    "##### 15.\n",
    "Define a function which can generate a dictionary where the keys are numbers between 1 and 20 (both included) and the values are square of keys.\n",
    "The function should just print the keys only. "
   ]
  },
  {
   "cell_type": "code",
   "execution_count": 59,
   "metadata": {},
   "outputs": [
    {
     "name": "stdout",
     "output_type": "stream",
     "text": [
      "dict_keys([1, 2, 3, 4, 5, 6, 7, 8, 9, 10, 11, 12, 13, 14, 15, 16, 17, 18, 19, 20])\n"
     ]
    }
   ],
   "source": [
    "def oxford():\n",
    "    d=dict()\n",
    "    for x in range(1,21):\n",
    "        d[x]=x**2\n",
    "    return(dict.keys(d)) \n",
    "print(oxford())\n",
    "    \n"
   ]
  },
  {
   "cell_type": "markdown",
   "metadata": {},
   "source": [
    "##### 16.\n",
    "Write a program which count and print the numbers of each character in a string input by console.\n",
    "Example:\n",
    "If the following string is given as input to the program:\n",
    "abcdeabc\n",
    "Then, the output of the program should be:\n",
    "a,2   c,2   b,2   e,1   d,1\n",
    "\n"
   ]
  },
  {
   "cell_type": "code",
   "execution_count": 16,
   "metadata": {},
   "outputs": [
    {
     "name": "stdout",
     "output_type": "stream",
     "text": [
      "Enter String: abcdeabc\n",
      "a , 2   b , 2   c , 2   d , 1   e , 1   "
     ]
    }
   ],
   "source": [
    "#see Q12 Assignment 1\n",
    "str1=str(input(\"Enter String: \"))\n",
    "dict={}\n",
    "for n in str1:\n",
    "    keys=dict.keys()\n",
    "    if n in keys:\n",
    "        dict[n]=dict[n]+1\n",
    "    else:\n",
    "        dict[n]=1\n",
    "for i in dict:\n",
    "    print(i,\",\",dict.get(i),end=\"   \")"
   ]
  },
  {
   "cell_type": "markdown",
   "metadata": {},
   "source": [
    "##### 17.\n",
    "Repetition of Q14."
   ]
  },
  {
   "cell_type": "markdown",
   "metadata": {},
   "source": [
    "##### 18.\n",
    "Write a program to generate and print another tuple whose values are even numbers in the given tuple (1,2,3,4,5,6,7,8,9,10)."
   ]
  },
  {
   "cell_type": "code",
   "execution_count": 82,
   "metadata": {},
   "outputs": [
    {
     "name": "stdout",
     "output_type": "stream",
     "text": [
      "(0, 2, 4, 6, 8)\n"
     ]
    }
   ],
   "source": [
    "given=(1,2,3,4,5,6,7,8,9,10)\n",
    "another=[]\n",
    "for i in range(len(given)):\n",
    "    if i%2==0:\n",
    "        another.append(i)\n",
    "print(tuple(another))\n",
    "    "
   ]
  },
  {
   "cell_type": "markdown",
   "metadata": {},
   "source": [
    "##### 19.\n",
    "Write a function called count_values that takes a single dictionary as an argument and returns the number of distinct values it contains. Given the input {‘red’:1,’green’:1,’blue’:2}, for example it should return 2."
   ]
  },
  {
   "cell_type": "code",
   "execution_count": 15,
   "metadata": {},
   "outputs": [
    {
     "name": "stdout",
     "output_type": "stream",
     "text": [
      "2\n"
     ]
    }
   ],
   "source": [
    "d={'red':1,'green':1,'blue':2}\n",
    "lookup=[]\n",
    "for x in d:\n",
    "    if d[x] not in lookup:\n",
    "        lookup.append(d[x])\n",
    "       \n",
    "print(len(lookup)) "
   ]
  },
  {
   "cell_type": "markdown",
   "metadata": {},
   "source": [
    "##### 20.\n",
    "Write a Python program to generate and print a list except for the first 5 elements, where the values are square of numbers between 1 and 30 (both included)"
   ]
  },
  {
   "cell_type": "code",
   "execution_count": 17,
   "metadata": {},
   "outputs": [
    {
     "name": "stdout",
     "output_type": "stream",
     "text": [
      "[36, 49, 64, 81, 100, 121, 144, 169, 196, 225, 256, 289, 324, 361, 400, 441, 484, 529, 576, 625, 676, 729, 784, 841, 900]\n"
     ]
    }
   ],
   "source": [
    "l =[]\n",
    "for i in range(1,31):\n",
    "    l.append(i**2)\n",
    "print(l[5:])\n",
    "\n"
   ]
  },
  {
   "cell_type": "markdown",
   "metadata": {},
   "source": [
    "##### 21.\n",
    "Write a Python Program using function to Sort Words in Alphabetic Order"
   ]
  },
  {
   "cell_type": "code",
   "execution_count": 3,
   "metadata": {},
   "outputs": [
    {
     "name": "stdout",
     "output_type": "stream",
     "text": [
      "Enter a string: sub to pew die pie\n",
      "The sorted words are:\n",
      "die\n",
      "pew\n",
      "pie\n",
      "sub\n",
      "to\n"
     ]
    }
   ],
   "source": [
    "# To take input from\n",
    "mystr = input(\"Enter a string: \")\n",
    "\n",
    "# breakdown the string into a list of words\n",
    "words = [word.lower() for word in mystr.split()]\n",
    "\n",
    "# sort the list\n",
    "words.sort()\n",
    "\n",
    "# display the sorted words\n",
    "\n",
    "print(\"The sorted words are:\")\n",
    "for word in words:\n",
    "    print(word)"
   ]
  },
  {
   "cell_type": "markdown",
   "metadata": {},
   "source": [
    "##### 22.\n",
    "Write a program to read details of the student(name as string ,usn as int ,semester as int) in comma separated values from the keyboard and split & typecast the input based on comma delimiter and store it in list before displaying it."
   ]
  },
  {
   "cell_type": "code",
   "execution_count": 12,
   "metadata": {},
   "outputs": [
    {
     "name": "stdout",
     "output_type": "stream",
     "text": [
      "Input Name,USN,Semester: Ram,12,7\n",
      "Input Name,USN,Semester: Shyam,17,8\n",
      "Input Name,USN,Semester: Geeta,14,6\n",
      "Input Name,USN,Semester: Sita,20,7\n",
      "Input Name,USN,Semester: Kavitha,19,8\n",
      "Names:  ['Ram', 'Shyam', 'Geeta', 'Sita', 'Kavitha']\n",
      "USNs:  ['12', '17', '14', '20', '19']\n",
      "Semester:  ['7', '8', '6', '7', '8']\n"
     ]
    }
   ],
   "source": [
    "names,USN,sem=[],[],[]\n",
    "for i in range(5):\n",
    "    values = input(\"Input Name,USN,Semester: \")\n",
    "    csv= values.split(\",\")\n",
    "    names.append(csv[0])\n",
    "    USN.append(csv[1])\n",
    "    sem.append(csv[2])\n",
    "print(\"Names: \",names)\n",
    "print(\"USNs: \",USN)\n",
    "print(\"Semester: \",sem)\n",
    "    \n",
    "\n"
   ]
  }
 ],
 "metadata": {
  "kernelspec": {
   "display_name": "Python 3",
   "language": "python",
   "name": "python3"
  },
  "language_info": {
   "codemirror_mode": {
    "name": "ipython",
    "version": 3
   },
   "file_extension": ".py",
   "mimetype": "text/x-python",
   "name": "python",
   "nbconvert_exporter": "python",
   "pygments_lexer": "ipython3",
   "version": "3.8.3"
  }
 },
 "nbformat": 4,
 "nbformat_minor": 4
}
