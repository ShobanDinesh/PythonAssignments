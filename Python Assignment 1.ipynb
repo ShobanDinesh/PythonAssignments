{
 "cells": [
  {
   "cell_type": "markdown",
   "metadata": {},
   "source": [
    "##### Assignment 1\n",
    "Suraj K Nair\n",
    "1MS17ME185"
   ]
  },
  {
   "cell_type": "markdown",
   "metadata": {},
   "source": [
    "##### 1.\n",
    "Design and implement a program\n",
    "1) To prompt the user for hours and ad rate per hour to compute gross pay\n",
    "2) To print the python version that is used."
   ]
  },
  {
   "cell_type": "code",
   "execution_count": 3,
   "metadata": {},
   "outputs": [
    {
     "name": "stdout",
     "output_type": "stream",
     "text": [
      "Enter rate per hour10\n",
      "Enter num of hours100\n",
      "Toltal Pay= 1750.0\n"
     ]
    }
   ],
   "source": [
    "r= float(input(\"Enter rate per hour\"))\n",
    "h= float(input(\"Enter num of hours\"))\n",
    "pay=r*h  #Pay is given by hours spent times rate\n",
    "overtime=r*1.25*(h-40)\n",
    "\n",
    "if h<40:\n",
    "    print(\"Total Pay=\",pay)\n",
    "else:\n",
    "    print(\"Total Pay=\",pay+overtime)\n",
    "    "
   ]
  },
  {
   "cell_type": "markdown",
   "metadata": {},
   "source": [
    "##### 1.2 \n",
    "Design and implement a program To print the python version that is used."
   ]
  },
  {
   "cell_type": "code",
   "execution_count": 4,
   "metadata": {},
   "outputs": [
    {
     "name": "stdout",
     "output_type": "stream",
     "text": [
      "3.8.3\n"
     ]
    }
   ],
   "source": [
    "import platform\n",
    "print(platform.python_version())"
   ]
  },
  {
   "cell_type": "markdown",
   "metadata": {},
   "source": [
    "##### 2.\n",
    "Design and implement a python program to get a new string from a given string where ‘is’ has been added to the front. If the string already begins with “is” the return the string unchanged."
   ]
  },
  {
   "cell_type": "code",
   "execution_count": 10,
   "metadata": {},
   "outputs": [
    {
     "name": "stdout",
     "output_type": "stream",
     "text": [
      "Enter a string:cuseme\n",
      "iscuseme\n"
     ]
    }
   ],
   "source": [
    "newstr=str(input(\"Enter a string:\"))\n",
    "if len(newstr)>=2 and newstr[:2]==\"is\":\n",
    "    print(newstr)\n",
    "else:\n",
    "    print(\"is\"+newstr)"
   ]
  },
  {
   "cell_type": "markdown",
   "metadata": {},
   "source": [
    "##### 3.\n",
    "Design and implement a program that evaluates the value of the quadratic equation ax2+bx+c by prompting the user to enter the values of a,b,c and x."
   ]
  },
  {
   "cell_type": "code",
   "execution_count": 16,
   "metadata": {},
   "outputs": [
    {
     "name": "stdout",
     "output_type": "stream",
     "text": [
      "Enter a:2\n",
      "Enter b:4\n",
      "Enter c:2\n",
      "0.0\n",
      "Root1: -1.0\n",
      "Root2: -1.0\n"
     ]
    }
   ],
   "source": [
    "a=float(input(\"Enter a:\"))\n",
    "b=float(input(\"Enter b:\"))\n",
    "c=float(input(\"Enter c:\"))\n",
    "det=(b**2-(4*a*c))**(1/2)\n",
    "print(det**(1/2))\n",
    "root1=(-b+det)/(2*a)\n",
    "root2=(-b-det)/(2*a)\n",
    "print(\"Root1:\",root1)\n",
    "print(\"Root2:\",root2)\n"
   ]
  },
  {
   "cell_type": "markdown",
   "metadata": {},
   "source": [
    "##### 4.\n",
    "Write a Python program to check a triangle is equilateral, isosceles or scalene"
   ]
  },
  {
   "cell_type": "code",
   "execution_count": 18,
   "metadata": {},
   "outputs": [
    {
     "name": "stdout",
     "output_type": "stream",
     "text": [
      "Enter length of side 1: 2\n",
      "Enter length of side 2: 4\n",
      "Enter lenght of side 3: 2\n",
      "Isoceles\n"
     ]
    }
   ],
   "source": [
    "a=float(input(\"Enter length of side 1: \"))\n",
    "b=float(input(\"Enter length of side 2: \"))\n",
    "c=float(input(\"Enter lenght of side 3: \"))\n",
    "if(a==b and b==c and c==a):\n",
    "    print(\"Equilateral\")\n",
    "elif(a==b or a==c or b==c):\n",
    "    print(\"Isoceles\")\n",
    "else:\n",
    "    print(\"Scalene\")"
   ]
  },
  {
   "cell_type": "markdown",
   "metadata": {},
   "source": [
    "##### 5.\n",
    "Design and implement a python program to test whether a number is within 100 of 1000 0r 2000."
   ]
  },
  {
   "cell_type": "code",
   "execution_count": 21,
   "metadata": {},
   "outputs": [
    {
     "name": "stdout",
     "output_type": "stream",
     "text": [
      "Enter a Number: -1999\n",
      "-1999.0 is within 100\n"
     ]
    }
   ],
   "source": [
    "num=float(input(\"Enter a Number: \"))\n",
    "if num<=100:\n",
    "    print(num,\"is within 100\")\n",
    "elif num<=1000:\n",
    "    print(num,\"is within 1000\")\n",
    "elif num<=2000:\n",
    "    print(num,\"is within 2000\")\n",
    "else:\n",
    "    print(num,\"is greater than 2000\")"
   ]
  },
  {
   "cell_type": "markdown",
   "metadata": {},
   "source": [
    "##### 6.\n",
    "Design and implement a python program that accepts an integer n and computes the value of n+nn+nnn"
   ]
  },
  {
   "cell_type": "code",
   "execution_count": 134,
   "metadata": {},
   "outputs": [
    {
     "name": "stdout",
     "output_type": "stream",
     "text": [
      "Input an integer : 1\n",
      "123\n"
     ]
    }
   ],
   "source": [
    "a = int(input(\"Input an integer : \"))\n",
    "n1 = int( \"%s\" % a )\n",
    "n2 = int( \"%s%s\" % (a,a) )\n",
    "n3 = int( \"%s%s%s\" % (a,a,a) )\n",
    "print (n1+n2+n3)"
   ]
  },
  {
   "cell_type": "markdown",
   "metadata": {},
   "source": [
    "##### 7.\n",
    "Write a program that sums a series of (positive) integers entered by the user, excluding all numbers that are greater than 100."
   ]
  },
  {
   "cell_type": "code",
   "execution_count": 42,
   "metadata": {},
   "outputs": [
    {
     "name": "stdout",
     "output_type": "stream",
     "text": [
      "Enter number of entries5\n",
      "Enter a Number-1\n",
      "Not accepted you must Enter a positive Number0\n",
      "Enter a Number6\n",
      "Enter a Number3\n",
      "Enter a Number1\n",
      "Enter a Number0\n",
      "[0, 6, 3, 1, 0]\n",
      "10\n"
     ]
    }
   ],
   "source": [
    "list=[]    #initialize list\n",
    "n=int(input(\"Enter number of entries\"))\n",
    "sum=0   #initialize sum\n",
    "for i in range(n): #i is incremented from 0 to n\n",
    "    ele = int(input(\"Enter a Number\"))\n",
    "    if ele>=0:\n",
    "        list.append(ele) # element is added to end of list (Appended)\n",
    "    else:\n",
    "        ele = int(input(\"Not accepted you must Enter a positive Number\"))\n",
    "        list.append(ele)\n",
    "        \n",
    "print(list)\n",
    "\n",
    "for i in list:\n",
    "    if i<100:\n",
    "        sum=sum+i\n",
    "    else:\n",
    "        pass\n",
    "print(sum)"
   ]
  },
  {
   "cell_type": "markdown",
   "metadata": {},
   "source": [
    "##### 8.\n",
    "Write a python program that asks the user how many coins of various types they have, and then print the total amount of money in rupees."
   ]
  },
  {
   "cell_type": "code",
   "execution_count": 25,
   "metadata": {},
   "outputs": [
    {
     "name": "stdout",
     "output_type": "stream",
     "text": [
      "Enter number of 1 rupee coins3\n",
      "Enter number of 2 rupee coins1\n",
      "Enter number of 5 rupee coins1\n",
      "the person has 10 rupees\n"
     ]
    }
   ],
   "source": [
    "n1=int(input(\"Enter number of 1 rupee coins\"))\n",
    "n2=int(input(\"Enter number of 2 rupee coins\"))\n",
    "n5=int(input(\"Enter number of 5 rupee coins\"))\n",
    "sum=n1+(2*n2)+(5*n5)\n",
    "print(\"the person has\",sum,\"rupees\")"
   ]
  },
  {
   "cell_type": "markdown",
   "metadata": {},
   "source": [
    "##### 9.\n",
    "Write a Python program to get the Fibonacci series between 0 to 50."
   ]
  },
  {
   "cell_type": "code",
   "execution_count": 138,
   "metadata": {},
   "outputs": [
    {
     "name": "stdout",
     "output_type": "stream",
     "text": [
      "0\n",
      "1\n",
      "1\n",
      "2\n",
      "3\n",
      "5\n",
      "8\n",
      "13\n",
      "21\n",
      "34\n",
      "55\n",
      "89\n",
      "144\n",
      "233\n",
      "377\n",
      "610\n",
      "987\n",
      "1597\n",
      "2584\n",
      "4181\n",
      "6765\n",
      "10946\n",
      "17711\n",
      "28657\n",
      "46368\n",
      "75025\n",
      "121393\n",
      "196418\n",
      "317811\n",
      "514229\n",
      "832040\n",
      "1346269\n",
      "2178309\n",
      "3524578\n",
      "5702887\n",
      "9227465\n",
      "14930352\n",
      "24157817\n",
      "39088169\n",
      "63245986\n",
      "102334155\n",
      "165580141\n",
      "267914296\n",
      "433494437\n",
      "701408733\n",
      "1134903170\n",
      "1836311903\n",
      "2971215073\n",
      "4807526976\n",
      "7778742049\n",
      "12586269025\n"
     ]
    }
   ],
   "source": [
    "n1,n2=0,1\n",
    "print(n1)\n",
    "print(n2)\n",
    "for i in range(0,49):\n",
    "    n3=n1+n2\n",
    "    print(n3)\n",
    "    n1=n2\n",
    "    n2=n3"
   ]
  },
  {
   "cell_type": "markdown",
   "metadata": {},
   "source": [
    "##### 10.\n",
    "Write a Python program to check the validity of password input by users. Go to the editor Validation : At least 1 letter between [a-z] and 1 letter between [A-Z]. At least 1 number between [0-9]. At least 1 character from [$#@]. Minimum length 6 characters. Maximum length 16 characters"
   ]
  },
  {
   "cell_type": "code",
   "execution_count": 36,
   "metadata": {},
   "outputs": [
    {
     "name": "stdout",
     "output_type": "stream",
     "text": [
      "Enter Password:passw0rd\n",
      "no uppercase letters\n",
      "Invalid Password\n"
     ]
    }
   ],
   "source": [
    "import re # regular expressions library used to search strings and patterns\n",
    "password=str(input(\"Enter Password:\"))\n",
    "flag=0\n",
    "while 1:\n",
    "    if(len(password)<6):#checks length of password\n",
    "        flag=-1\n",
    "        print(\"Too short\")\n",
    "        break #exit while loop\n",
    "    if(len(password)>16):#checks length of password\n",
    "        flag=-1\n",
    "        print(\"Too long\")\n",
    "        break #exit while loop\n",
    "    \n",
    "    elif not re.search(\"[a-z]\",password):\n",
    "        flag=-1\n",
    "        print(\"no lowercase letters\")\n",
    "        break\n",
    "    elif not re.search(\"[A-Z]\",password):\n",
    "        flag=-1\n",
    "        print(\"no uppercase letters\")\n",
    "        break\n",
    "    elif not re.search(\"[0-9]\",password):\n",
    "        flag=-1\n",
    "        print(\"no digits\")\n",
    "        break\n",
    "    elif not re.search(\"[_@$#]\",password):\n",
    "        flag=-1\n",
    "        print(\"no special characters\")\n",
    "        break\n",
    "    else :\n",
    "        flag=0\n",
    "if flag==0:\n",
    "    print(\"Password Valid\")\n",
    "else:\n",
    "    print(\"Invalid Password\")"
   ]
  },
  {
   "cell_type": "markdown",
   "metadata": {},
   "source": [
    "##### 11.\n",
    "Write a Python program in which a student enters the number of college credits earned. If the number of credits is greater than 90, 'Senior Status' is displayed; if greater than 60, 'Junior Status' is displayed; if greater than 30, 'Sophomore Status' is displayed; else, 'Freshman Status' is displayed."
   ]
  },
  {
   "cell_type": "code",
   "execution_count": 139,
   "metadata": {},
   "outputs": [
    {
     "name": "stdout",
     "output_type": "stream",
     "text": [
      "Enter Credits earned: 90\n",
      "Junior Status\n"
     ]
    }
   ],
   "source": [
    "cred=int(input(\"Enter Credits earned: \"))\n",
    "if cred>0:\n",
    "    if cred>90:\n",
    "        print(\"Senior Status\")\n",
    "    elif cred>60:\n",
    "        print(\"Junior Status\")\n",
    "    elif cred>30:\n",
    "        print(\"Sophomore status\")\n",
    "    else :\n",
    "        print(\"Freshman status\")\n",
    "        "
   ]
  },
  {
   "cell_type": "markdown",
   "metadata": {},
   "source": [
    "##### 12.\n",
    "Design and implement a program to count the number of individual characters in a string. Sample string:”yahoo.com” Result:{‘0’:3,’y’:1,’.’:1,’a’:1,’h’:1,’m’:1,’c’:1}"
   ]
  },
  {
   "cell_type": "code",
   "execution_count": 39,
   "metadata": {},
   "outputs": [
    {
     "name": "stdout",
     "output_type": "stream",
     "text": [
      "Enter String: yahoo.com\n",
      "{'y': 1, 'a': 1, 'h': 1, 'o': 3, '.': 1, 'c': 1, 'm': 1}\n"
     ]
    }
   ],
   "source": [
    "str1=str(input(\"Enter String: \"))\n",
    "dict={}\n",
    "for n in str1:\n",
    "    keys=dict.keys()\n",
    "    if n in keys:\n",
    "        dict[n]=dict[n]+1\n",
    "    else:\n",
    "        dict[n]=1\n",
    "print(dict)"
   ]
  },
  {
   "cell_type": "markdown",
   "metadata": {},
   "source": [
    "##### 13.\n",
    "(Repetition of Question7)"
   ]
  },
  {
   "cell_type": "markdown",
   "metadata": {},
   "source": [
    "##### 14.\n",
    "Write a Python program which takes two digits m (row) and n (column) as input and generates a two-dimensional array. The element value in the i-th row and j-th column of the array should be i*j. Test Data : Rows = 3, Columns = 4 Expected Result : [[0, 0, 0, 0], [0, 1, 2, 3], [0, 2, 4, 6]]"
   ]
  },
  {
   "cell_type": "code",
   "execution_count": 79,
   "metadata": {},
   "outputs": [
    {
     "name": "stdout",
     "output_type": "stream",
     "text": [
      "Enter num of rows: 3\n",
      "Enter num of coloumns: 4\n",
      "[[0, 0, 0, 0], [0, 1, 2, 3], [0, 2, 4, 6]]\n"
     ]
    }
   ],
   "source": [
    "row_num=int(input(\"Enter num of rows: \"))\n",
    "col_num=int(input(\"Enter num of coloumns: \"))\n",
    "list=[[0 for col in range(col_num)]for row in range(row_num)]\n",
    "for row in range(row_num):\n",
    "    for col in range(col_num):\n",
    "        list[row][col]=row*col\n",
    "print(list)"
   ]
  },
  {
   "cell_type": "markdown",
   "metadata": {},
   "source": [
    "##### 15.\n",
    "Write a Python program to find numbers between 100 and 400 (both included) where each digit of a number is an odd number. The numbers obtained should be printed in a comma-separated sequence"
   ]
  },
  {
   "cell_type": "code",
   "execution_count": 47,
   "metadata": {},
   "outputs": [
    {
     "name": "stdout",
     "output_type": "stream",
     "text": [
      "111,113,115,117,119,131,133,135,137,139,151,153,155,157,159,171,173,175,177,179,191,193,195,197,199,311,313,315,317,319,331,333,335,337,339,351,353,355,357,359,371,373,375,377,379,391,393,395,397,399\n"
     ]
    }
   ],
   "source": [
    "list=[]\n",
    "for i in range(100,401):\n",
    "    s=str(i)\n",
    "    if (int(s[0])%2!=0) and (int(s[1])%2!=0) and (int(s[2])%2!=0):\n",
    "        list.append(s)                          \n",
    "print(\",\".join(list))"
   ]
  },
  {
   "cell_type": "markdown",
   "metadata": {},
   "source": [
    "##### 16.\n",
    "Write a Python program that accepts a word from the user and reverse it."
   ]
  },
  {
   "cell_type": "code",
   "execution_count": 57,
   "metadata": {},
   "outputs": [
    {
     "name": "stdout",
     "output_type": "stream",
     "text": [
      "Enter a word to reverse: Malayalam\n",
      "malayalaM\n",
      "\n"
     ]
    }
   ],
   "source": [
    "word=str(input(\"Enter a word to reverse: \"))\n",
    "size=len(word)\n",
    "for i in range(size-1,-1,-1):\n",
    "    print(word[i],end=\"\")\n",
    "print(\"\\n\")\n",
    "    "
   ]
  },
  {
   "cell_type": "markdown",
   "metadata": {},
   "source": [
    "##### 17.\n",
    "Write a Python program to find those numbers which are divisible by 7 and multiple of 5, between 1500 and 2700 (both included)."
   ]
  },
  {
   "cell_type": "code",
   "execution_count": 62,
   "metadata": {},
   "outputs": [
    {
     "name": "stdout",
     "output_type": "stream",
     "text": [
      "1505 1540 1575 1610 1645 1680 1715 1750 1785 1820 1855 1890 1925 1960 1995 2030 2065 2100 2135 2170 2205 2240 2275 2310 2345 2380 2415 2450 2485 2520 2555 2590 2625 2660 2695 "
     ]
    }
   ],
   "source": [
    "for i in range(1500,2700):\n",
    "    if (i%7==0) and (i%5==0):\n",
    "        print(i,end=\" \")"
   ]
  },
  {
   "cell_type": "markdown",
   "metadata": {},
   "source": [
    "##### 18.\n",
    " Write a Python program to construct the following pattern, using a nested for loop.\n",
    "\n",
    "* \n",
    "* * \n",
    "* * * \n",
    "* * * * \n",
    "* * * * * \n",
    "* * * * \n",
    "* * * \n",
    "* * \n",
    "*"
   ]
  },
  {
   "cell_type": "code",
   "execution_count": 69,
   "metadata": {},
   "outputs": [
    {
     "name": "stdout",
     "output_type": "stream",
     "text": [
      "\n",
      "* \n",
      "* * \n",
      "* * * \n",
      "* * * * \n",
      "* * * * * \n",
      "* * * * \n",
      "* * * \n",
      "* * \n",
      "* \n"
     ]
    }
   ],
   "source": [
    "for i in range(5):\n",
    "    for j in range(i):\n",
    "        print(\"*\",end=\" \")\n",
    "    print(\"\")\n",
    "for i in range(5,0,-1):\n",
    "    for j in range(i):\n",
    "        print(\"*\",end=\" \")\n",
    "    print(\"\")"
   ]
  },
  {
   "cell_type": "markdown",
   "metadata": {},
   "source": [
    "##### 19.\n",
    "Write a Python program that allows the user to enter a four-digit binary number and displays its value in base 10. Each binary digit should be entered one per line, starting with the leftmost digit , as shown below.\n",
    "        \n",
    "        Enter leftmost digit: 1       \n",
    "        Enter the next digit: 0\n",
    "        Enter the next digit: 0       \n",
    "        Enter the next digit: 1      \n",
    "        The value is 9"
   ]
  },
  {
   "cell_type": "code",
   "execution_count": 84,
   "metadata": {},
   "outputs": [
    {
     "name": "stdout",
     "output_type": "stream",
     "text": [
      "Enter first digit1\n",
      "Enter second digit0\n",
      "Enter third digit0\n",
      "Enter fourth digit1\n",
      "1001\n",
      "9\n"
     ]
    }
   ],
   "source": [
    "n1=str(input(\"Enter first digit\"))\n",
    "n2=str(input(\"Enter second digit\"))\n",
    "n3=str(input(\"Enter third digit\"))\n",
    "n4=str(input(\"Enter fourth digit\"))\n",
    "n=int(n1+n2+n3+n4)\n",
    "decimal,dec,i=0,0,0\n",
    "print(n)\n",
    "while(n!= 0):\n",
    "        dec = n% 10\n",
    "        decimal = decimal + dec * pow(2, i) \n",
    "        n = n//10\n",
    "        i += 1\n",
    "print(decimal)  "
   ]
  },
  {
   "cell_type": "markdown",
   "metadata": {},
   "source": [
    "##### 20.Repeated"
   ]
  },
  {
   "cell_type": "markdown",
   "metadata": {},
   "source": [
    "##### 21.\n",
    "Write a Python program to find numbers between 100 and 400 (both included) where each digit of a number is an even number. The numbers obtained should be printed in a comma-separated sequence"
   ]
  },
  {
   "cell_type": "code",
   "execution_count": 80,
   "metadata": {},
   "outputs": [
    {
     "name": "stdout",
     "output_type": "stream",
     "text": [
      "200,202,204,206,208,220,222,224,226,228,240,242,244,246,248,260,262,264,266,268,280,282,284,286,288,400\n"
     ]
    }
   ],
   "source": [
    "items = []\n",
    "for i in range(100, 401):\n",
    "    s = str(i)\n",
    "    if (int(s[0])%2==0) and (int(s[1])%2==0) and (int(s[2])%2==0):\n",
    "        items.append(s)\n",
    "print( \",\".join(items))"
   ]
  },
  {
   "cell_type": "markdown",
   "metadata": {},
   "source": [
    "##### 22.\n",
    "Write a Python program that accepts a string and calculate the number of digits and letters.\n",
    "Sample Data : Python 3.2 \n",
    "Expected Output : Letters 6 Digits 2"
   ]
  },
  {
   "cell_type": "code",
   "execution_count": 82,
   "metadata": {},
   "outputs": [
    {
     "name": "stdout",
     "output_type": "stream",
     "text": [
      "Input a stringPython 3.8\n",
      "Letters 6 Digits 2\n"
     ]
    }
   ],
   "source": [
    "s = input(\"Input a string\")\n",
    "d=l=0\n",
    "for c in s:\n",
    "    if c.isdigit():\n",
    "        d=d+1\n",
    "    elif c.isalpha():\n",
    "        l=l+1\n",
    "    else:\n",
    "        pass\n",
    "print(\"Letters\", l,end=\" \")\n",
    "print(\"Digits\", d)"
   ]
  },
  {
   "cell_type": "markdown",
   "metadata": {},
   "source": [
    "##### 23.\n",
    "Write a Python program to convert temperatures to and from celsius, fahrenheit.\n",
    "[ Formula : c = (5/9)f-32 [ where c = temperature in celsius and f = temperature in fahrenheit ] Expected Output : 60°C is 140 in Fahrenheit.45°F is 7 in Celsius\n"
   ]
  },
  {
   "cell_type": "code",
   "execution_count": 90,
   "metadata": {},
   "outputs": [
    {
     "name": "stdout",
     "output_type": "stream",
     "text": [
      "Enter temp in Celsius: 60\n",
      "140.0 deg farenheit\n",
      "Enter temp in Farenheit: 45\n",
      "7.222222222222222 deg celsius\n"
     ]
    }
   ],
   "source": [
    "c=float(input(\"Enter temp in Celsius: \"))\n",
    "f=(c)*9/5+32\n",
    "print(f,\"deg farenheit\")\n",
    "f=float(input(\"Enter temp in Farenheit: \"))\n",
    "c=(f-32)*5/9\n",
    "print(c,\"deg celsius\")"
   ]
  },
  {
   "cell_type": "markdown",
   "metadata": {},
   "source": [
    "##### 24.\n",
    "Write a Python program to count the number of even and odd numbers from a series of numbers"
   ]
  },
  {
   "cell_type": "code",
   "execution_count": 99,
   "metadata": {},
   "outputs": [
    {
     "name": "stdout",
     "output_type": "stream",
     "text": [
      "Enter size of series: 4\n",
      "Enter element 34\n",
      "Enter element 65\n",
      "Enter element 78\n",
      "Enter element 99\n",
      "[34, 65, 78, 99]\n",
      "Odd count:  2\n",
      "Even count:  2\n"
     ]
    }
   ],
   "source": [
    "series=[]\n",
    "odd,even=0,0\n",
    "size=int(input(\"Enter size of series: \"))\n",
    "for i in range(size):\n",
    "    series.append(int(input(\"Enter element \")))\n",
    "print(series)\n",
    "for i in series:\n",
    "    if  i%2==0:\n",
    "        even+=1\n",
    "    else:\n",
    "        odd+=1\n",
    "print(\"Odd count: \",odd)\n",
    "print(\"Even count: \",even)\n",
    "    \n",
    "\n",
    "    "
   ]
  },
  {
   "cell_type": "code",
   "execution_count": null,
   "metadata": {},
   "outputs": [],
   "source": [
    "Write a Python program to check a string represent an integer or not.\n",
    "Input a string: Python\n",
    "Expected Output:The string is not an integer."
   ]
  },
  {
   "cell_type": "code",
   "execution_count": 103,
   "metadata": {},
   "outputs": [
    {
     "name": "stdout",
     "output_type": "stream",
     "text": [
      "Enter string to check: BooyakaBooyaka619\n",
      "String has integers\n"
     ]
    }
   ],
   "source": [
    "import re\n",
    "str1=str(input(\"Enter string to check: \"))\n",
    "if re.search(\"[0-9]\",str1):\n",
    "    print(\"String has integers\")\n",
    "else:\n",
    "    print(\"The string is not an integer\")"
   ]
  },
  {
   "cell_type": "markdown",
   "metadata": {},
   "source": [
    "##### 26.\n",
    "Write a Python program to calculate the difference between the squared sum of first n natural numbers and the sum of squared first n natural numbers"
   ]
  },
  {
   "cell_type": "code",
   "execution_count": 106,
   "metadata": {},
   "outputs": [
    {
     "name": "stdout",
     "output_type": "stream",
     "text": [
      "Enter n no of natural numbers: 3\n",
      "Difference= 8\n"
     ]
    }
   ],
   "source": [
    "sum,sqsum,diff=0,0,0\n",
    "n=int(input(\"Enter n no of natural numbers: \"))\n",
    "for i in range(0,n+1):\n",
    "    sum=sum+i\n",
    "    sqsum=sqsum+(i**2)\n",
    "print(\"Difference=\",sqsum-sum)"
   ]
  },
  {
   "cell_type": "markdown",
   "metadata": {},
   "source": [
    "##### 27.\n",
    "Write a Python program to convert a decimal number to binary number"
   ]
  },
  {
   "cell_type": "code",
   "execution_count": null,
   "metadata": {},
   "outputs": [],
   "source": [
    "# Function to convert decimal number \n",
    "# to binary using recursion \n",
    "def DecimalToBinary(num): \n",
    "      \n",
    "    if num > 1: \n",
    "        DecimalToBinary(num // 2) \n",
    "    print(num % 2, end = '') \n",
    "  \n",
    "# Driver Code \n",
    "if __name__ == '__main__': \n",
    "      \n",
    "    # decimal value \n",
    "    dec_val =int(input(\"Enter a decimal Number: \"))\n",
    "      \n",
    "    # Calling function \n",
    "    DecimalToBinary(dec_val) "
   ]
  },
  {
   "cell_type": "markdown",
   "metadata": {},
   "source": [
    "##### 28.\n",
    "Write a Python program to create the multiplication table (from 1 to 10) of a number.\n"
   ]
  },
  {
   "cell_type": "code",
   "execution_count": 116,
   "metadata": {},
   "outputs": [
    {
     "name": "stdout",
     "output_type": "stream",
     "text": [
      "Enter a number10\n",
      "10 X 1 = 10\n",
      "10 X 2 = 20\n",
      "10 X 3 = 30\n",
      "10 X 4 = 40\n",
      "10 X 5 = 50\n",
      "10 X 6 = 60\n",
      "10 X 7 = 70\n",
      "10 X 8 = 80\n",
      "10 X 9 = 90\n",
      "10 X 10 = 100\n"
     ]
    }
   ],
   "source": [
    "n=int(input(\"Enter a number\"))\n",
    "for i in range(10):\n",
    "    print(n,\"X\",i+1,\"=\",n*(i+1))\n"
   ]
  },
  {
   "cell_type": "markdown",
   "metadata": {},
   "source": [
    "##### 29.\n",
    "Write a Python program to construct the following pattern, using a nested loop number Expected Output: 1 22 333 4444 55555 666666 777777\n"
   ]
  },
  {
   "cell_type": "code",
   "execution_count": 127,
   "metadata": {},
   "outputs": [
    {
     "name": "stdout",
     "output_type": "stream",
     "text": [
      "1 22 333 4444 55555 666666 7777777 "
     ]
    }
   ],
   "source": [
    "n = 7\n",
    "\n",
    "for i in range (1,n+1):\n",
    "    for j in range (i):\n",
    "        print(i,end=\"\")\n",
    "    print(end=\" \")"
   ]
  },
  {
   "cell_type": "markdown",
   "metadata": {},
   "source": [
    "##### 30.\n",
    "Write a Python program to get a single string from two given strings, separated by a space and swap the first two characters of each string. Sample String : 'abc', 'xyz' Expected Result : 'xyc abz'"
   ]
  },
  {
   "cell_type": "code",
   "execution_count": 129,
   "metadata": {},
   "outputs": [
    {
     "name": "stdout",
     "output_type": "stream",
     "text": [
      "Enter string1: abd\n",
      "Enter string2: pqr\n",
      "pqd abr\n"
     ]
    }
   ],
   "source": [
    "def chars_mix_up(a, b):\n",
    "  new_a = b[:2] + a[2:]\n",
    "  new_b = a[:2] + b[2:]\n",
    "\n",
    "  return new_a + ' ' + new_b\n",
    "a=str(input(\"Enter string1: \"))\n",
    "b=str(input(\"Enter string2: \"))\n",
    "print(chars_mix_up(a,b))"
   ]
  },
  {
   "cell_type": "markdown",
   "metadata": {},
   "source": [
    "##### 31.\n",
    "repetition of 24"
   ]
  },
  {
   "cell_type": "markdown",
   "metadata": {},
   "source": [
    "##### 32.\n",
    "Write a Python program to get a string from a given string where all occurrences of its first char have been changed to '$', except the first char itself."
   ]
  },
  {
   "cell_type": "code",
   "execution_count": 133,
   "metadata": {},
   "outputs": [
    {
     "name": "stdout",
     "output_type": "stream",
     "text": [
      "Enter String :SUS\n",
      "SU$\n"
     ]
    }
   ],
   "source": [
    "def change_char(str1):\n",
    "  char = str1[0]\n",
    "  str1 = str1.replace(char, '$')\n",
    "  str1 = char + str1[1:]\n",
    "\n",
    "  return str1\n",
    "\n",
    "print(change_char(str(input(\"Enter String :\"))))"
   ]
  }
 ],
 "metadata": {
  "kernelspec": {
   "display_name": "Python 3",
   "language": "python",
   "name": "python3"
  },
  "language_info": {
   "codemirror_mode": {
    "name": "ipython",
    "version": 3
   },
   "file_extension": ".py",
   "mimetype": "text/x-python",
   "name": "python",
   "nbconvert_exporter": "python",
   "pygments_lexer": "ipython3",
   "version": "3.8.3"
  }
 },
 "nbformat": 4,
 "nbformat_minor": 4
}
